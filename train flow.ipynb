{
 "cells": [
  {
   "cell_type": "code",
   "execution_count": 21,
   "metadata": {},
   "outputs": [],
   "source": [
    "import random\n",
    "import simpy\n",
    "import csv\n",
    "#Scenario:A station system has a limited number of trains and defines a onboard processes that takes some (random) time.\n",
    "#Passenger processes arrive at the station at a random time. \n",
    "#If one train is available, they start the onboard process, the train will stay in the station for 1 minute and leave.\n",
    "#If not, they wait until next one.\n",
    "#The interval time between each train is 3 minutes."
   ]
  },
  {
   "cell_type": "code",
   "execution_count": 22,
   "metadata": {},
   "outputs": [],
   "source": [
    "#9am green\n",
    "\n",
    "NUM_TRAINS = 2  # Number of trains in the station\n",
    "WAITTIME = 3      # Minutes it takes to wait for a train\n",
    "ONBOARDTIME = 1   # Minutes it takes for onboard passengers to wait for the train to leave the station\n",
    "T_INTER = 1       # Create a group of people every ~1 minutes\n",
    "SIM_TIME = 60    # Simulation time in an hour(60 minutes)\n"
   ]
  },
  {
   "cell_type": "code",
   "execution_count": 23,
   "metadata": {},
   "outputs": [],
   "source": [
    "class Flow:\n",
    "    def __init__(self,time,arrive,depart,flowall):\n",
    "        self.time = time\n",
    "        self.arrive = arrive\n",
    "        self.depart = depart\n",
    "        self.flowall = flowall\n",
    "      "
   ]
  },
  {
   "cell_type": "code",
   "execution_count": 24,
   "metadata": {},
   "outputs": [
    {
     "name": "stdout",
     "output_type": "stream",
     "text": [
      "13\n"
     ]
    }
   ],
   "source": [
    "with open(\"flow.csv\", encoding='mac_roman') as csvfile:\n",
    "    reader = csv.reader(csvfile)\n",
    "    rows = 0\n",
    "    for r in reader:\n",
    "        rows = rows + 1\n",
    "    print(rows)"
   ]
  },
  {
   "cell_type": "code",
   "execution_count": 25,
   "metadata": {},
   "outputs": [
    {
     "name": "stdout",
     "output_type": "stream",
     "text": [
      "1\n",
      "3\n",
      "5\n",
      "7\n",
      "9\n",
      "11\n",
      "13\n",
      "15\n",
      "17\n",
      "19\n",
      "21\n",
      "23\n"
     ]
    }
   ],
   "source": [
    "Flows=[]\n",
    "with open(\"flow.csv\", encoding='mac_roman') as csvfile:\n",
    "    reader = csv.DictReader(csvfile)\n",
    "    for row in reader:\n",
    "        time = row['time']\n",
    "        arrive = row['arrive']\n",
    "        depart = row['depart']\n",
    "        flowall = row['flowall']\n",
    "        print(time)\n",
    "        Flows.append(Flow(time,arrive,depart,flowall))"
   ]
  },
  {
   "cell_type": "code",
   "execution_count": 26,
   "metadata": {},
   "outputs": [],
   "source": [
    "class Onboard(object):\n",
    "    \"\"\"A station has a limited number of trains (``NUM_NUM_TRAINS``) to\n",
    "    carry passengers in parallel.\n",
    "\n",
    "    Passengerss have to request one of the Trains. When they get on one train, they\n",
    "    can start the onboard processes and wait 1 minute for it to leave the station (which\n",
    "    takes ``onboardtime`` minutes).\n",
    "\n",
    "    \"\"\"\n",
    "    def __init__(self, env, num_trains, waittime, onboardtime):\n",
    "        self.env = env\n",
    "        self.train = simpy.Resource(env, num_trains)\n",
    "        self.onboardtime = onboardtime\n",
    "        self.waittime = waittime\n",
    "               \n",
    "\n",
    "    def wait(self, passengers):\n",
    "        \"\"\"The waiting processes. It takes a group of``passengers`` processes and tries\n",
    "        to wait for it.\"\"\"\n",
    "        yield self.env.timeout(WAITTIME)\n",
    "  "
   ]
  },
  {
   "cell_type": "code",
   "execution_count": 28,
   "metadata": {},
   "outputs": [],
   "source": [
    "#I isolate the loop here. The loop here should be wrong, as the file is too big to run\n",
    "#n=0\n",
    "#while n<11:\n",
    "#    while env.now < 60: \n",
    "#        hour=Flows[n].time\n",
    "#    else:\n",
    "#        n=n+1\n",
    "#        env.now==0\n",
    "    \n",
    "#    RANDOM_SEED=int(Flows[n].flowall)\n",
    "#    print(n,RANDOM_SEED)"
   ]
  },
  {
   "cell_type": "code",
   "execution_count": 27,
   "metadata": {},
   "outputs": [],
   "source": [
    "def passenger(env, name, cw):\n",
    "    \"\"\"The passenger process (each passenger has a ``name``) arrives at the carwash\n",
    "    (``cw``) and requests a cleaning machine.\n",
    "\n",
    "    It then starts the washing process, waits for it to finish and\n",
    "    leaves to never come back ...\n",
    "\n",
    "    \"\"\"\n",
    "   \n",
    "    print('%s arrives at the station at %s:%s' % (name, hour, env.now)) # hour goes wrong in the above loop\n",
    "    with cw.train.request() as request:\n",
    "\n",
    "        print('%s enters the train at %s:%s' % (name, hour, env.now))\n",
    "        yield env.process(cw.wait(name))\n",
    "\n",
    "        print('%s leaves the station at %s:%s' % (name, hour, env.now))\n"
   ]
  },
  {
   "cell_type": "code",
   "execution_count": 29,
   "metadata": {},
   "outputs": [],
   "source": [
    "def setup(env, num_trains, waittime, t_inter, onboardtime):\n",
    "    \"\"\"Create a onboard, a number of initial passengers and keep creating passengers\n",
    "    approx. every ``t_inter`` minutes.\"\"\"\n",
    "    # Create the onboard\n",
    "    onboard = Onboard(env, num_trains, waittime, onboardtime)\n",
    "\n",
    "    # Create 10 initial cars\n",
    "    for i in range(10):\n",
    "        env.process(passenger(env, 'Passenger %d' % i, onboard))\n",
    "    \n",
    "    \n",
    "    # Create more cars while the simulation is running\n",
    "    while True:\n",
    "        yield env.timeout(random.randint(t_inter - 1, t_inter + 1))\n",
    "        i += RANDOM_SEED/60 #    RANDOM_SEED is something wrong in the loop, which means the overall flow per hour. Please check the csv\n",
    "        env.process(passenger(env, 'Passenger %d' % i, onboard))"
   ]
  },
  {
   "cell_type": "code",
   "execution_count": 30,
   "metadata": {},
   "outputs": [
    {
     "name": "stdout",
     "output_type": "stream",
     "text": [
      "Onboard\n"
     ]
    }
   ],
   "source": [
    "# Setup and start the simulation\n",
    "print('Onboard')\n"
   ]
  },
  {
   "cell_type": "code",
   "execution_count": 31,
   "metadata": {},
   "outputs": [
    {
     "data": {
      "text/plain": [
       "<Process(setup) object at 0x265fc732790>"
      ]
     },
     "execution_count": 31,
     "metadata": {},
     "output_type": "execute_result"
    }
   ],
   "source": [
    "# Create an environment and start the setup process\n",
    "env = simpy.Environment()\n",
    "env.process(setup(env, NUM_TRAINS, WAITTIME, T_INTER, ONBOARDTIME))"
   ]
  },
  {
   "cell_type": "code",
   "execution_count": 32,
   "metadata": {},
   "outputs": [
    {
     "ename": "NameError",
     "evalue": "name 'hour' is not defined",
     "output_type": "error",
     "traceback": [
      "\u001b[1;31m---------------------------------------------------------------------------\u001b[0m",
      "\u001b[1;31mNameError\u001b[0m                                 Traceback (most recent call last)",
      "\u001b[1;32m<ipython-input-27-6f7199e4989c>\u001b[0m in \u001b[0;36mpassenger\u001b[1;34m(env, name, cw)\u001b[0m\n\u001b[0;32m      9\u001b[0m \u001b[1;33m\u001b[0m\u001b[0m\n\u001b[1;32m---> 10\u001b[1;33m     \u001b[0mprint\u001b[0m\u001b[1;33m(\u001b[0m\u001b[1;34m'%s arrives at the station at %s:%s'\u001b[0m \u001b[1;33m%\u001b[0m \u001b[1;33m(\u001b[0m\u001b[0mname\u001b[0m\u001b[1;33m,\u001b[0m \u001b[0mhour\u001b[0m\u001b[1;33m,\u001b[0m \u001b[0menv\u001b[0m\u001b[1;33m.\u001b[0m\u001b[0mnow\u001b[0m\u001b[1;33m)\u001b[0m\u001b[1;33m)\u001b[0m\u001b[1;33m\u001b[0m\u001b[1;33m\u001b[0m\u001b[0m\n\u001b[0m\u001b[0;32m     11\u001b[0m     \u001b[1;32mwith\u001b[0m \u001b[0mcw\u001b[0m\u001b[1;33m.\u001b[0m\u001b[0mtrain\u001b[0m\u001b[1;33m.\u001b[0m\u001b[0mrequest\u001b[0m\u001b[1;33m(\u001b[0m\u001b[1;33m)\u001b[0m \u001b[1;32mas\u001b[0m \u001b[0mrequest\u001b[0m\u001b[1;33m:\u001b[0m\u001b[1;33m\u001b[0m\u001b[1;33m\u001b[0m\u001b[0m\n",
      "\u001b[1;31mNameError\u001b[0m: name 'hour' is not defined",
      "\nThe above exception was the direct cause of the following exception:\n",
      "\u001b[1;31mNameError\u001b[0m                                 Traceback (most recent call last)",
      "\u001b[1;32m<ipython-input-32-7abdee2bafbf>\u001b[0m in \u001b[0;36m<module>\u001b[1;34m\u001b[0m\n\u001b[0;32m      1\u001b[0m \u001b[1;31m# Execute!\u001b[0m\u001b[1;33m\u001b[0m\u001b[1;33m\u001b[0m\u001b[1;33m\u001b[0m\u001b[0m\n\u001b[1;32m----> 2\u001b[1;33m \u001b[0menv\u001b[0m\u001b[1;33m.\u001b[0m\u001b[0mrun\u001b[0m\u001b[1;33m(\u001b[0m\u001b[0muntil\u001b[0m\u001b[1;33m=\u001b[0m\u001b[0mSIM_TIME\u001b[0m\u001b[1;33m)\u001b[0m\u001b[1;33m\u001b[0m\u001b[1;33m\u001b[0m\u001b[0m\n\u001b[0m",
      "\u001b[1;32m~\\miniconda3\\lib\\site-packages\\simpy\\core.py\u001b[0m in \u001b[0;36mrun\u001b[1;34m(self, until)\u001b[0m\n\u001b[0;32m    252\u001b[0m         \u001b[1;32mtry\u001b[0m\u001b[1;33m:\u001b[0m\u001b[1;33m\u001b[0m\u001b[1;33m\u001b[0m\u001b[0m\n\u001b[0;32m    253\u001b[0m             \u001b[1;32mwhile\u001b[0m \u001b[1;32mTrue\u001b[0m\u001b[1;33m:\u001b[0m\u001b[1;33m\u001b[0m\u001b[1;33m\u001b[0m\u001b[0m\n\u001b[1;32m--> 254\u001b[1;33m                 \u001b[0mself\u001b[0m\u001b[1;33m.\u001b[0m\u001b[0mstep\u001b[0m\u001b[1;33m(\u001b[0m\u001b[1;33m)\u001b[0m\u001b[1;33m\u001b[0m\u001b[1;33m\u001b[0m\u001b[0m\n\u001b[0m\u001b[0;32m    255\u001b[0m         \u001b[1;32mexcept\u001b[0m \u001b[0mStopSimulation\u001b[0m \u001b[1;32mas\u001b[0m \u001b[0mexc\u001b[0m\u001b[1;33m:\u001b[0m\u001b[1;33m\u001b[0m\u001b[1;33m\u001b[0m\u001b[0m\n\u001b[0;32m    256\u001b[0m             \u001b[1;32mreturn\u001b[0m \u001b[0mexc\u001b[0m\u001b[1;33m.\u001b[0m\u001b[0margs\u001b[0m\u001b[1;33m[\u001b[0m\u001b[1;36m0\u001b[0m\u001b[1;33m]\u001b[0m  \u001b[1;31m# == until.value\u001b[0m\u001b[1;33m\u001b[0m\u001b[1;33m\u001b[0m\u001b[0m\n",
      "\u001b[1;32m~\\miniconda3\\lib\\site-packages\\simpy\\core.py\u001b[0m in \u001b[0;36mstep\u001b[1;34m(self)\u001b[0m\n\u001b[0;32m    204\u001b[0m             \u001b[0mexc\u001b[0m \u001b[1;33m=\u001b[0m \u001b[0mtype\u001b[0m\u001b[1;33m(\u001b[0m\u001b[0mevent\u001b[0m\u001b[1;33m.\u001b[0m\u001b[0m_value\u001b[0m\u001b[1;33m)\u001b[0m\u001b[1;33m(\u001b[0m\u001b[1;33m*\u001b[0m\u001b[0mevent\u001b[0m\u001b[1;33m.\u001b[0m\u001b[0m_value\u001b[0m\u001b[1;33m.\u001b[0m\u001b[0margs\u001b[0m\u001b[1;33m)\u001b[0m\u001b[1;33m\u001b[0m\u001b[1;33m\u001b[0m\u001b[0m\n\u001b[0;32m    205\u001b[0m             \u001b[0mexc\u001b[0m\u001b[1;33m.\u001b[0m\u001b[0m__cause__\u001b[0m \u001b[1;33m=\u001b[0m \u001b[0mevent\u001b[0m\u001b[1;33m.\u001b[0m\u001b[0m_value\u001b[0m\u001b[1;33m\u001b[0m\u001b[1;33m\u001b[0m\u001b[0m\n\u001b[1;32m--> 206\u001b[1;33m             \u001b[1;32mraise\u001b[0m \u001b[0mexc\u001b[0m\u001b[1;33m\u001b[0m\u001b[1;33m\u001b[0m\u001b[0m\n\u001b[0m\u001b[0;32m    207\u001b[0m \u001b[1;33m\u001b[0m\u001b[0m\n\u001b[0;32m    208\u001b[0m     def run(\n",
      "\u001b[1;31mNameError\u001b[0m: name 'hour' is not defined"
     ]
    }
   ],
   "source": [
    "# Execute!\n",
    "env.run(until=SIM_TIME)"
   ]
  },
  {
   "cell_type": "code",
   "execution_count": null,
   "metadata": {},
   "outputs": [],
   "source": []
  }
 ],
 "metadata": {
  "kernelspec": {
   "display_name": "Python 3",
   "language": "python",
   "name": "python3"
  },
  "language_info": {
   "codemirror_mode": {
    "name": "ipython",
    "version": 3
   },
   "file_extension": ".py",
   "mimetype": "text/x-python",
   "name": "python",
   "nbconvert_exporter": "python",
   "pygments_lexer": "ipython3",
   "version": "3.8.3"
  }
 },
 "nbformat": 4,
 "nbformat_minor": 4
}
